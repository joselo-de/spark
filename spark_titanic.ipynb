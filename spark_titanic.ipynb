{
 "cells": [
  {
   "cell_type": "code",
   "execution_count": 1,
   "metadata": {},
   "outputs": [],
   "source": [
    "# import spark, let the system find it easily with findspark\n",
    "import findspark\n",
    "findspark.init('/home/hadoop/spark-2.4.0-bin-hadoop2.7')"
   ]
  },
  {
   "cell_type": "code",
   "execution_count": 2,
   "metadata": {},
   "outputs": [],
   "source": [
    "# create a spark session\n",
    "from pyspark.sql import SparkSession\n",
    "spark = SparkSession.builder.appName('spark-titanic').getOrCreate()"
   ]
  },
  {
   "cell_type": "code",
   "execution_count": 3,
   "metadata": {},
   "outputs": [
    {
     "name": "stdout",
     "output_type": "stream",
     "text": [
      "+---------+------+--------+--------------------+-------+-----------+--------------------+-----+----------+-----+------+\n",
      "|row_names|pclass|survived|                name|    age|   embarked|           home_dest| room|    ticket| boat|   sex|\n",
      "+---------+------+--------+--------------------+-------+-----------+--------------------+-----+----------+-----+------+\n",
      "|        1|   1st|       1|Allen, Miss Elisa...|29.0000|Southampton|        St Louis, MO|  B-5|24160 L221|    2|female|\n",
      "|        2|   1st|       0|Allison, Miss Hel...| 2.0000|Southampton|Montreal, PQ / Ch...|  C26|      null| null|female|\n",
      "|        3|   1st|       0|Allison, Mr Hudso...|30.0000|Southampton|Montreal, PQ / Ch...|  C26|      null|(135)|  male|\n",
      "|        4|   1st|       0|Allison, Mrs Huds...|25.0000|Southampton|Montreal, PQ / Ch...|  C26|      null| null|female|\n",
      "|        5|   1st|       1|Allison, Master H...| 0.9167|Southampton|Montreal, PQ / Ch...|  C22|      null|   11|  male|\n",
      "|        6|   1st|       1|  Anderson, Mr Harry|47.0000|Southampton|        New York, NY| E-12|      null|    3|  male|\n",
      "|        7|   1st|       1|Andrews, Miss Kor...|63.0000|Southampton|          Hudson, NY|  D-7| 13502 L77|   10|female|\n",
      "|        8|   1st|       0|Andrews, Mr Thoma...|39.0000|Southampton|         Belfast, NI| A-36|      null| null|  male|\n",
      "|        9|   1st|       1|Appleton, Mrs Edw...|58.0000|Southampton| Bayside, Queens, NY|C-101|      null|    2|female|\n",
      "|       10|   1st|       0|Artagaveytia, Mr ...|71.0000|  Cherbourg| Montevideo, Uruguay| null|      null| (22)|  male|\n",
      "+---------+------+--------+--------------------+-------+-----------+--------------------+-----+----------+-----+------+\n",
      "only showing top 10 rows\n",
      "\n"
     ]
    }
   ],
   "source": [
    "# read data source. format accepts 'json', 'csv', 'txt'\n",
    "df = spark.read.format('csv').option('header', 'True').option('inferSchema', 'True').load('s3a://bigd-hadoop/titanic.csv')\n",
    "df.show(10)"
   ]
  },
  {
   "cell_type": "code",
   "execution_count": 4,
   "metadata": {},
   "outputs": [
    {
     "name": "stdout",
     "output_type": "stream",
     "text": [
      "+-------+------+-------------------+--------------------+------------------+-----------+------+\n",
      "|summary|pclass|           survived|                name|               age|   embarked|  room|\n",
      "+-------+------+-------------------+--------------------+------------------+-----------+------+\n",
      "|  count|  1313|               1313|                1313|              1313|        821|    77|\n",
      "|   mean|  null|  0.341964965727342|                null| 31.19418104265403|       null|2131.0|\n",
      "| stddev|  null|0.47454867068071604|                null|14.747525275652208|       null|   NaN|\n",
      "|    min|   1st|                  0|\"Brown, Mrs James...|            0.1667|  Cherbourg|  2131|\n",
      "|    max|   3rd|                  1|del Carlo, Mrs Se...|                NA|Southampton|   F-?|\n",
      "+-------+------+-------------------+--------------------+------------------+-----------+------+\n",
      "\n"
     ]
    }
   ],
   "source": [
    "# we can take a quick look at the data with describe()\n",
    "desc_df = df.describe()\n",
    "desc_df.select('summary','pclass','survived','name','age','embarked','room').show()"
   ]
  },
  {
   "cell_type": "code",
   "execution_count": 5,
   "metadata": {},
   "outputs": [
    {
     "name": "stdout",
     "output_type": "stream",
     "text": [
      "dataframe rows:  1313\n",
      "columns:  11\n"
     ]
    }
   ],
   "source": [
    "# how many rows and columns?\n",
    "print('dataframe rows: ', df.count())\n",
    "print('columns: ', len(df.columns))"
   ]
  },
  {
   "cell_type": "code",
   "execution_count": 6,
   "metadata": {},
   "outputs": [
    {
     "name": "stdout",
     "output_type": "stream",
     "text": [
      "root\n",
      " |-- row_names: integer (nullable = true)\n",
      " |-- pclass: string (nullable = true)\n",
      " |-- survived: integer (nullable = true)\n",
      " |-- name: string (nullable = true)\n",
      " |-- age: string (nullable = true)\n",
      " |-- embarked: string (nullable = true)\n",
      " |-- home_dest: string (nullable = true)\n",
      " |-- room: string (nullable = true)\n",
      " |-- ticket: string (nullable = true)\n",
      " |-- boat: string (nullable = true)\n",
      " |-- sex: string (nullable = true)\n",
      "\n"
     ]
    }
   ],
   "source": [
    "# take a look at the schema\n",
    "df.printSchema()"
   ]
  },
  {
   "cell_type": "markdown",
   "metadata": {},
   "source": [
    "Looking at the schema, the first thing we notice is that 'age' and 'class' are strings. We expected those to be numbers, so we need to transform them first.\n",
    "\n",
    "#### We will be showing the resulting dataframe everytime we make a tranformation of the data"
   ]
  },
  {
   "cell_type": "code",
   "execution_count": 7,
   "metadata": {},
   "outputs": [
    {
     "name": "stdout",
     "output_type": "stream",
     "text": [
      "+------+\n",
      "|pclass|\n",
      "+------+\n",
      "|   2nd|\n",
      "|   1st|\n",
      "|   3rd|\n",
      "+------+\n",
      "\n"
     ]
    }
   ],
   "source": [
    "# find out the different classes\n",
    "df.select('pclass').distinct().show()"
   ]
  },
  {
   "cell_type": "markdown",
   "metadata": {},
   "source": [
    "We use UDF (User Defined Functions) to create class_index (string to number conversion)\n",
    "\n",
    "\n",
    "An example of UDF using the Lambda Function:\n",
    "\n",
    "age_udf = udf(lambda age: 'young' if age <= 30 else 'senior', StringType())\n",
    "\n",
    "df = df.withColumn('age_group', age_udf(df.age)).show()\n",
    "\n",
    "source: Singh, P. (2019). Machine Learning with PySpark With Natural Language Processing and Recommender Systems. Berkeley: Apress. doi: https://doi.org/10.1007/978-1-4842-4131-8"
   ]
  },
  {
   "cell_type": "code",
   "execution_count": 8,
   "metadata": {},
   "outputs": [
    {
     "name": "stdout",
     "output_type": "stream",
     "text": [
      "+--------------------+------+-----------+\n",
      "|                name|pclass|class_index|\n",
      "+--------------------+------+-----------+\n",
      "|del Carlo, Mrs Se...|   2nd|          2|\n",
      "|del Carlo, Mr Seb...|   2nd|          2|\n",
      "|de Villiers, Mada...|   1st|          1|\n",
      "|de Brito, Mr Jose...|   2nd|          2|\n",
      "|      Zimmerman, Leo|   3rd|          3|\n",
      "|       Zievens, Rene|   3rd|          3|\n",
      "|     Zenn, Mr Philip|   3rd|          3|\n",
      "|Zakarian, Mr Mapr...|   3rd|          3|\n",
      "|  Zakarian, Mr Artun|   3rd|          3|\n",
      "| Zabour, Miss Tamini|   3rd|          3|\n",
      "| Zabour, Miss Hileni|   3rd|          3|\n",
      "|Yrois, Miss Henri...|   2nd|          2|\n",
      "|  Youssef, Mr Gerios|   3rd|          3|\n",
      "|Young, Miss Marie...|   1st|          1|\n",
      "| Yasbeck, Mrs Antoni|   3rd|          3|\n",
      "|  Yasbeck, Mr Antoni|   3rd|          3|\n",
      "|   Yalsevac, Mr Ivan|   3rd|          3|\n",
      "|   Wright, Mr George|   1st|          1|\n",
      "| Wright, Miss Marion|   2nd|          2|\n",
      "|    Woolner, Mr Hugh|   1st|          1|\n",
      "+--------------------+------+-----------+\n",
      "only showing top 20 rows\n",
      "\n"
     ]
    }
   ],
   "source": [
    "from pyspark.sql.functions import udf, when, col\n",
    "from pyspark.sql.types import StringType, DoubleType, IntegerType#, ByteType\n",
    "\n",
    "class_udf = udf(lambda pclass: 1 if pclass == '1st' else (2 if pclass == '2nd' else 3), IntegerType())\n",
    "df = df.withColumn('class_index', class_udf(df['pclass']))\n",
    "df.select('name','pclass','class_index').orderBy('name', ascending=False).show()"
   ]
  },
  {
   "cell_type": "code",
   "execution_count": 9,
   "metadata": {},
   "outputs": [
    {
     "name": "stdout",
     "output_type": "stream",
     "text": [
      "+--------+\n",
      "|survived|\n",
      "+--------+\n",
      "|       1|\n",
      "|       0|\n",
      "+--------+\n",
      "\n"
     ]
    }
   ],
   "source": [
    "# next column 'survived'. It looks good with only 0's and 1's\n",
    "df.select('survived').distinct().show()"
   ]
  },
  {
   "cell_type": "code",
   "execution_count": 10,
   "metadata": {},
   "outputs": [
    {
     "name": "stdout",
     "output_type": "stream",
     "text": [
      "+--------------------+-----+\n",
      "|                name|count|\n",
      "+--------------------+-----+\n",
      "|     Kelly, Mr James|    2|\n",
      "| Connolly, Miss Kate|    2|\n",
      "|Carlsson, Mr Fran...|    2|\n",
      "|Widener, Mr Georg...|    1|\n",
      "|Coleridge, Mr Reg...|    1|\n",
      "|Rosblom, Miss Sal...|    1|\n",
      "|Porter, Mr Walter...|    1|\n",
      "|   Hart, Mr Benjamin|    1|\n",
      "|Brocklebank, Mr W...|    1|\n",
      "|    Coxon, Mr Daniel|    1|\n",
      "|    Denkoff, Mr Mito|    1|\n",
      "|   Herman, Miss Kate|    1|\n",
      "|      Dibo, Mr Elias|    1|\n",
      "|    Kelly, Miss Mary|    1|\n",
      "| Nenkoff, Mr Christo|    1|\n",
      "|Odahl, Mr Nils Ma...|    1|\n",
      "| Thomas, Mr John, Jr|    1|\n",
      "|Long, Mr Milton C...|    1|\n",
      "|    Foley, Mr Joseph|    1|\n",
      "|Jonsson, Nils Hil...|    1|\n",
      "+--------------------+-----+\n",
      "only showing top 20 rows\n",
      "\n"
     ]
    }
   ],
   "source": [
    "# can we extract some info from 'name'?\n",
    "df.groupBy('name').count().orderBy('count', ascending=False).show()"
   ]
  },
  {
   "cell_type": "markdown",
   "metadata": {},
   "source": [
    "Found 3 duplicates, just drop them."
   ]
  },
  {
   "cell_type": "code",
   "execution_count": 11,
   "metadata": {},
   "outputs": [
    {
     "name": "stdout",
     "output_type": "stream",
     "text": [
      "dataframe rows:  1313\n",
      "dataframe rows after duplicates drop:  1310\n"
     ]
    }
   ],
   "source": [
    "# count rows before and after dropping duplicates\n",
    "print('dataframe rows: ', df.count())\n",
    "\n",
    "df = df.dropDuplicates(['name'])\n",
    "\n",
    "print('dataframe rows after duplicates drop: ', df.count())\n",
    "# it was good to eliminate some duplicate rows but at the end we will drop this column "
   ]
  },
  {
   "cell_type": "markdown",
   "metadata": {},
   "source": [
    "It was helpful since we eliminated some duplicates but at the end, the column 'name' will not be considered for the final dataframe"
   ]
  },
  {
   "cell_type": "code",
   "execution_count": 12,
   "metadata": {},
   "outputs": [
    {
     "name": "stdout",
     "output_type": "stream",
     "text": [
      "+-------+-----+\n",
      "|    age|count|\n",
      "+-------+-----+\n",
      "|     NA|  679|\n",
      "|30.0000|   28|\n",
      "|18.0000|   25|\n",
      "|36.0000|   23|\n",
      "|24.0000|   22|\n",
      "+-------+-----+\n",
      "only showing top 5 rows\n",
      "\n"
     ]
    }
   ],
   "source": [
    "# groupby 'age' just to find out how many NULL values do we have on that column\n",
    "df.groupBy('age').count().orderBy('count', ascending=False).show(5)"
   ]
  },
  {
   "cell_type": "markdown",
   "metadata": {},
   "source": [
    "To deal with the NULL values, we will follow the standard practice of creating a new imputed column. Values will depend on whether the column was imputed=1 (meaning the original value was NULL, then replaced) or imputed=0 (value not replaced)"
   ]
  },
  {
   "cell_type": "code",
   "execution_count": 13,
   "metadata": {},
   "outputs": [
    {
     "name": "stdout",
     "output_type": "stream",
     "text": [
      "root\n",
      " |-- row_names: integer (nullable = true)\n",
      " |-- pclass: string (nullable = true)\n",
      " |-- survived: integer (nullable = true)\n",
      " |-- name: string (nullable = true)\n",
      " |-- age: double (nullable = true)\n",
      " |-- embarked: string (nullable = true)\n",
      " |-- home_dest: string (nullable = true)\n",
      " |-- room: string (nullable = true)\n",
      " |-- ticket: string (nullable = true)\n",
      " |-- boat: string (nullable = true)\n",
      " |-- sex: string (nullable = true)\n",
      " |-- class_index: integer (nullable = true)\n",
      "\n"
     ]
    }
   ],
   "source": [
    "# first, transform 'age' from StringType to DoubleType\n",
    "df = df.withColumn('age', df['age'].cast(DoubleType()))\n",
    "df.printSchema()"
   ]
  },
  {
   "cell_type": "code",
   "execution_count": 14,
   "metadata": {},
   "outputs": [
    {
     "name": "stdout",
     "output_type": "stream",
     "text": [
      "+--------------------+----+-----------+\n",
      "|                name| age|age_imputed|\n",
      "+--------------------+----+-----------+\n",
      "|Harbeck, Mr Willi...|44.0|          0|\n",
      "|       Lang, Mr Fang|null|          1|\n",
      "|Levy, Mr Rene Jac...|null|          1|\n",
      "|Padro y Manent, M...|null|          1|\n",
      "|Salkjelsvik, Miss...|null|          1|\n",
      "|Allison, Miss Hel...| 2.0|          0|\n",
      "|Candee, Mrs Edwar...|53.0|          0|\n",
      "|Carter, Mrs Willi...|36.0|          0|\n",
      "|Hakkarainen, Mr P...|null|          1|\n",
      "|Landegren, Miss A...|null|          1|\n",
      "|  Thomas, Mr Charles|null|          1|\n",
      "|Colley, Mr Edward...|null|          1|\n",
      "|Harknett, Miss Alice|null|          1|\n",
      "|Rosblom, Miss Sal...|null|          1|\n",
      "|Brocklebank, Mr W...|35.0|          0|\n",
      "|    Coxon, Mr Daniel|59.0|          0|\n",
      "|   Hart, Mr Benjamin|43.0|          0|\n",
      "|Widener, Mr Georg...|50.0|          0|\n",
      "|Doyle, Miss Eliza...|24.0|          0|\n",
      "|Futrelle, Mr Jacques|37.0|          0|\n",
      "+--------------------+----+-----------+\n",
      "only showing top 20 rows\n",
      "\n"
     ]
    }
   ],
   "source": [
    "# create age_imputed column before filling null values\n",
    "from pyspark.sql import functions as F\n",
    "df = df.select(col('*'), F.when(df['age'] > 0, 0).otherwise(1).alias('age_imputed'))\n",
    "df.select(['name','age','age_imputed']).show()"
   ]
  },
  {
   "cell_type": "code",
   "execution_count": 15,
   "metadata": {},
   "outputs": [
    {
     "data": {
      "text/plain": [
       "[Row(format_number(avg(age), 2)='31.21')]"
      ]
     },
     "execution_count": 15,
     "metadata": {},
     "output_type": "execute_result"
    }
   ],
   "source": [
    "# get the mean of 'age' to fill in the null values\n",
    "from pyspark.sql.functions import mean, format_number\n",
    "\n",
    "mean_age = df.select(format_number(mean(df['age']), 2)).collect()\n",
    "#mean_age = df.select(mean(df['age'])).collect()\n",
    "mean_age"
   ]
  },
  {
   "cell_type": "code",
   "execution_count": 16,
   "metadata": {},
   "outputs": [
    {
     "data": {
      "text/plain": [
       "31.21"
      ]
     },
     "execution_count": 16,
     "metadata": {},
     "output_type": "execute_result"
    }
   ],
   "source": [
    "# mean_age as a float\n",
    "mean_age = float(mean_age[0][0])\n",
    "mean_age"
   ]
  },
  {
   "cell_type": "markdown",
   "metadata": {},
   "source": [
    "we could fill the NULL values on 'age' with mean_age\n",
    "* df = df.na.fill(mean_age, 'age').show()"
   ]
  },
  {
   "cell_type": "code",
   "execution_count": 17,
   "metadata": {},
   "outputs": [
    {
     "name": "stdout",
     "output_type": "stream",
     "text": [
      "+--------------------+----+-----------+------------------+\n",
      "|                name| age|age_imputed|           new_age|\n",
      "+--------------------+----+-----------+------------------+\n",
      "|Harbeck, Mr Willi...|44.0|          0|              44.0|\n",
      "|       Lang, Mr Fang|null|          1|31.205890015847856|\n",
      "|Levy, Mr Rene Jac...|null|          1|31.205890015847856|\n",
      "|Padro y Manent, M...|null|          1|31.205890015847856|\n",
      "|Salkjelsvik, Miss...|null|          1|31.205890015847856|\n",
      "|Allison, Miss Hel...| 2.0|          0|               2.0|\n",
      "|Candee, Mrs Edwar...|53.0|          0|              53.0|\n",
      "|Carter, Mrs Willi...|36.0|          0|              36.0|\n",
      "|Hakkarainen, Mr P...|null|          1|31.205890015847856|\n",
      "|Landegren, Miss A...|null|          1|31.205890015847856|\n",
      "|  Thomas, Mr Charles|null|          1|31.205890015847856|\n",
      "|Colley, Mr Edward...|null|          1|31.205890015847856|\n",
      "|Harknett, Miss Alice|null|          1|31.205890015847856|\n",
      "|Rosblom, Miss Sal...|null|          1|31.205890015847856|\n",
      "|Brocklebank, Mr W...|35.0|          0|              35.0|\n",
      "|    Coxon, Mr Daniel|59.0|          0|              59.0|\n",
      "|   Hart, Mr Benjamin|43.0|          0|              43.0|\n",
      "|Widener, Mr Georg...|50.0|          0|              50.0|\n",
      "|Doyle, Miss Eliza...|24.0|          0|              24.0|\n",
      "|Futrelle, Mr Jacques|37.0|          0|              37.0|\n",
      "+--------------------+----+-----------+------------------+\n",
      "only showing top 20 rows\n",
      "\n"
     ]
    }
   ],
   "source": [
    "# or better use Spark's imputer feature\n",
    "from pyspark.ml.feature import Imputer\n",
    "\n",
    "imputer = Imputer(inputCols=['age'], outputCols=['new_age'])\n",
    "model = imputer.fit(df)\n",
    "\n",
    "df = model.transform(df)\n",
    "df.select(['name','age','age_imputed','new_age']).show()"
   ]
  },
  {
   "cell_type": "code",
   "execution_count": 18,
   "metadata": {},
   "outputs": [
    {
     "name": "stdout",
     "output_type": "stream",
     "text": [
      "+-----------+-----+\n",
      "|   embarked|count|\n",
      "+-----------+-----+\n",
      "|Southampton|  572|\n",
      "|       null|  491|\n",
      "|  Cherbourg|  203|\n",
      "| Queenstown|   44|\n",
      "+-----------+-----+\n",
      "\n"
     ]
    }
   ],
   "source": [
    "# take a look at 'embarked': 3 categories + null\n",
    "df.groupBy('embarked').count().orderBy('count', ascending=False).show()"
   ]
  },
  {
   "cell_type": "code",
   "execution_count": 19,
   "metadata": {},
   "outputs": [
    {
     "name": "stdout",
     "output_type": "stream",
     "text": [
      "+--------------------+-----------+--------------+\n",
      "|                name|   embarked|embarked_index|\n",
      "+--------------------+-----------+--------------+\n",
      "|Harbeck, Mr Willi...|Southampton|           0.0|\n",
      "|       Lang, Mr Fang|       null|           3.0|\n",
      "|Levy, Mr Rene Jac...|  Cherbourg|           1.0|\n",
      "|Padro y Manent, M...|  Cherbourg|           1.0|\n",
      "|Salkjelsvik, Miss...|       null|           3.0|\n",
      "|Allison, Miss Hel...|Southampton|           0.0|\n",
      "|Candee, Mrs Edwar...|  Cherbourg|           1.0|\n",
      "|Carter, Mrs Willi...|Southampton|           0.0|\n",
      "|Hakkarainen, Mr P...|       null|           3.0|\n",
      "|Landegren, Miss A...|       null|           3.0|\n",
      "|  Thomas, Mr Charles|       null|           3.0|\n",
      "|Colley, Mr Edward...|Southampton|           0.0|\n",
      "|Harknett, Miss Alice|       null|           3.0|\n",
      "|Rosblom, Miss Sal...|       null|           3.0|\n",
      "|Brocklebank, Mr W...|Southampton|           0.0|\n",
      "|    Coxon, Mr Daniel|Southampton|           0.0|\n",
      "|   Hart, Mr Benjamin|Southampton|           0.0|\n",
      "|Widener, Mr Georg...|  Cherbourg|           1.0|\n",
      "|Doyle, Miss Eliza...| Queenstown|           2.0|\n",
      "|Futrelle, Mr Jacques|Southampton|           0.0|\n",
      "+--------------------+-----------+--------------+\n",
      "only showing top 20 rows\n",
      "\n"
     ]
    }
   ],
   "source": [
    "# import libraries for indexer creation\n",
    "from pyspark.ml.feature import StringIndexer\n",
    "\n",
    "# we can either impute the NULL values with whatever arbitrary value we want or let spark do it.\n",
    "# here we use handleInvalid=\"keep\" to account for those NULL values. It will automatically create a 4th category with all the Nulls\n",
    "emb_indexer = StringIndexer(inputCol='embarked', outputCol='embarked_index', handleInvalid=\"keep\")\n",
    "df = emb_indexer.fit(df).transform(df)\n",
    "df.select(['name','embarked','embarked_index']).show()"
   ]
  },
  {
   "cell_type": "code",
   "execution_count": 20,
   "metadata": {},
   "outputs": [
    {
     "name": "stdout",
     "output_type": "stream",
     "text": [
      "+--------------------+-----+\n",
      "|           home_dest|count|\n",
      "+--------------------+-----+\n",
      "|                null|  558|\n",
      "|        New York, NY|   64|\n",
      "|              London|   14|\n",
      "|        Montreal, PQ|   10|\n",
      "|       Paris, France|    9|\n",
      "|Cornwall / Akron, OH|    9|\n",
      "|Wiltshire, Englan...|    8|\n",
      "|        Winnipeg, MB|    8|\n",
      "|    Philadelphia, PA|    8|\n",
      "| Sweden Winnipeg, MN|    7|\n",
      "|        Brooklyn, NY|    7|\n",
      "|             Belfast|    7|\n",
      "|Rotherfield, Suss...|    5|\n",
      "|          Ottawa, ON|    5|\n",
      "|Sweden Worcester, MA|    5|\n",
      "|Bulgaria Chicago, IL|    5|\n",
      "|Somerset / Bernar...|    5|\n",
      "|Haverford, PA / C...|    5|\n",
      "|      Youngstown, OH|    5|\n",
      "|  Syria New York, NY|    4|\n",
      "+--------------------+-----+\n",
      "only showing top 20 rows\n",
      "\n"
     ]
    }
   ],
   "source": [
    "# although less nulls than other columns, the problem with home_dest is lack of uniformity.\n",
    "# this column will receive the same treatment as the 'name' column. we'll just drop it\n",
    "df.groupBy('home_dest').count().orderBy('count', ascending=False).show()"
   ]
  },
  {
   "cell_type": "code",
   "execution_count": 21,
   "metadata": {},
   "outputs": [
    {
     "name": "stdout",
     "output_type": "stream",
     "text": [
      "+--------+-----+\n",
      "|    room|count|\n",
      "+--------+-----+\n",
      "|    null| 1233|\n",
      "|    F-33|    4|\n",
      "|     C26|    3|\n",
      "|   C-101|    3|\n",
      "|   E-101|    3|\n",
      "|B-51/3/5|    2|\n",
      "|     B-5|    2|\n",
      "|    C-85|    2|\n",
      "|    C-93|    2|\n",
      "|    B-18|    2|\n",
      "| B-58/60|    2|\n",
      "|     D-?|    2|\n",
      "|     C22|    2|\n",
      "|   C-125|    2|\n",
      "|    D-35|    2|\n",
      "|   C-126|    2|\n",
      "|    C-83|    2|\n",
      "|    C-87|    2|\n",
      "|    B-49|    2|\n",
      "|     C-7|    2|\n",
      "+--------+-----+\n",
      "only showing top 20 rows\n",
      "\n"
     ]
    }
   ],
   "source": [
    "# in 'room' we see a lot of null values, but we can still get some categories if we take only the first letter\n",
    "df.groupBy('room').count().orderBy('count', ascending=False).show()"
   ]
  },
  {
   "cell_type": "code",
   "execution_count": 22,
   "metadata": {},
   "outputs": [
    {
     "name": "stdout",
     "output_type": "stream",
     "text": [
      "+--------------------+------+------------+----------+----------+\n",
      "|                name|  room|room_imputed|room_categ|room_index|\n",
      "+--------------------+------+------------+----------+----------+\n",
      "|    Swane, Mr George|   F-?|           0|         F|       4.0|\n",
      "| Brown, Miss Mildred|  F-33|           0|         F|       4.0|\n",
      "|  Lemore, Mrs Amelia|  F-33|           0|         F|       4.0|\n",
      "|Nye, Mrs Elizabet...|  F-33|           0|         F|       4.0|\n",
      "|Cook, Mrs Selena ...|  F-33|           0|         F|       4.0|\n",
      "|      Mack, Mrs Mary|   E77|           0|         E|       3.0|\n",
      "|     Buss, Miss Kate|   E-?|           0|         E|       3.0|\n",
      "|  Anderson, Mr Harry|  E-12|           0|         E|       3.0|\n",
      "|Troutt, Miss Edwi...| E-101|           0|         E|       3.0|\n",
      "|  Webber, Miss Susan| E-101|           0|         E|       3.0|\n",
      "| Keane, Miss Nora A.| E-101|           0|         E|       3.0|\n",
      "|Longley, Miss Gre...|   D-?|           0|         D|       2.0|\n",
      "|Hogeboom, Mrs Joh...|   D-?|           0|         D|       2.0|\n",
      "|Andrews, Miss Kor...|   D-7|           0|         D|       2.0|\n",
      "|Beesley, Mr Lawrence|  D-56|           0|         D|       2.0|\n",
      "|Nourney, Mr Alfre...|  D-38|           0|         D|       2.0|\n",
      "|Beckwith, Mrs Ric...|  D-35|           0|         D|       2.0|\n",
      "|Beckwith, Mr Rich...|  D-35|           0|         D|       2.0|\n",
      "|Borebank, Mr John...|D-21/2|           0|         D|       2.0|\n",
      "|Allison, Miss Hel...|   C26|           0|         C|       0.0|\n",
      "+--------------------+------+------------+----------+----------+\n",
      "only showing top 20 rows\n",
      "\n"
     ]
    }
   ],
   "source": [
    "# create room_imputed column before filling nulls\n",
    "df = df.select(col('*'), F.when(df['room'].isNull(), 1).otherwise(0).alias('room_imputed'))\n",
    "\n",
    "# create room_category taking the first letter from room_number\n",
    "from pyspark.sql.functions import col, substring\n",
    "df = df.select(col('*'), substring(col('room'), 0, 1).alias('room_categ'))\n",
    "\n",
    "# create index for room\n",
    "# we use again handleInvalid=\"keep\" to include null values in the index\n",
    "room_indexer = StringIndexer(inputCol='room_categ', outputCol='room_index', handleInvalid=\"keep\")\n",
    "df = room_indexer.fit(df).transform(df)\n",
    "df.select('name','room','room_imputed','room_categ','room_index').orderBy('room', ascending=False).show()"
   ]
  },
  {
   "cell_type": "code",
   "execution_count": 23,
   "metadata": {},
   "outputs": [
    {
     "name": "stdout",
     "output_type": "stream",
     "text": [
      "+--------------------+-----+\n",
      "|              ticket|count|\n",
      "+--------------------+-----+\n",
      "|                null| 1241|\n",
      "|    17608 L262 7s 6d|    5|\n",
      "|          230136 L39|    4|\n",
      "|          24160 L221|    3|\n",
      "|          230080 L26|    3|\n",
      "|       28220 L32 10s|    3|\n",
      "|           13502 L77|    3|\n",
      "|    17582 L153 9s 3d|    3|\n",
      "|   17754 L224 10s 6d|    3|\n",
      "|        13529 L26 5s|    3|\n",
      "|     36973 L83 9s 6d|    2|\n",
      "|   111361 L57 19s 7d|    2|\n",
      "|              392091|    2|\n",
      "|       17755 L512 6s|    2|\n",
      "|   17483 L221 15s 7d|    2|\n",
      "|               17483|    2|\n",
      "|               17754|    2|\n",
      "|112058 Complimentary|    1|\n",
      "|    17591 L50 9s 11d|    1|\n",
      "|              L15 1s|    1|\n",
      "+--------------------+-----+\n",
      "only showing top 20 rows\n",
      "\n"
     ]
    }
   ],
   "source": [
    "# 'ticket' is mostly NULL's. we'll drop it too\n",
    "df.groupBy('ticket').count().orderBy('count', ascending=False).show()"
   ]
  },
  {
   "cell_type": "code",
   "execution_count": 24,
   "metadata": {},
   "outputs": [
    {
     "name": "stdout",
     "output_type": "stream",
     "text": [
      "+----+-----+\n",
      "|boat|count|\n",
      "+----+-----+\n",
      "|null|  963|\n",
      "|   4|   27|\n",
      "|   5|   27|\n",
      "|   7|   22|\n",
      "|   3|   19|\n",
      "|   8|   18|\n",
      "|  11|   17|\n",
      "|   6|   17|\n",
      "|  13|   16|\n",
      "|   9|   15|\n",
      "|  14|   15|\n",
      "|  12|   13|\n",
      "|   2|   11|\n",
      "|   D|   10|\n",
      "|  10|    8|\n",
      "|  15|    6|\n",
      "|   C|    6|\n",
      "|   B|    6|\n",
      "|   A|    5|\n",
      "|   1|    4|\n",
      "+----+-----+\n",
      "only showing top 20 rows\n",
      "\n"
     ]
    }
   ],
   "source": [
    "# extracting some data from 'boat' looks really challenging. we can try just to index it\n",
    "df.groupBy('boat').count().orderBy('count', ascending=False).show()"
   ]
  },
  {
   "cell_type": "code",
   "execution_count": 25,
   "metadata": {},
   "outputs": [
    {
     "name": "stdout",
     "output_type": "stream",
     "text": [
      "+--------------------+-----+----------+\n",
      "|                name| boat|boat_index|\n",
      "+--------------------+-----+----------+\n",
      "|\"Brown, Mrs James...|    6|       6.0|\n",
      "|  Abbing, Mr Anthony| null|      99.0|\n",
      "|Abbott, Master Eu...| null|      99.0|\n",
      "|Abbott, Mr Rossmo...|(190)|      62.0|\n",
      "|Abbott, Mrs Stant...|    A|      17.0|\n",
      "|Abelseth, Miss An...|   16|      21.0|\n",
      "|  Abelseth, Mr Olaus|    A|      17.0|\n",
      "|  Abelson, Mr Samuel| null|      99.0|\n",
      "|Abelson, Mrs Samu...|   12|      10.0|\n",
      "|Abraham, Mrs Jose...| null|      99.0|\n",
      "|Abrahamsson, Mr A...|   15|      14.0|\n",
      "|Adahl, Mr Mauritz...| (72)|      52.0|\n",
      "|      Adams, Mr John|(103)|      85.0|\n",
      "|Ahlin, Mrs Johann...| null|      99.0|\n",
      "|       Ahmed, Mr Ali| null|      99.0|\n",
      "| Aijo-Nirva, Mr Isak| null|      99.0|\n",
      "|  Aks, Master Philip|   11|       5.0|\n",
      "|Aks, Mrs Sam (Lea...|   13|       7.0|\n",
      "|Aldworth, Mr Char...| null|      99.0|\n",
      "|Alexander, Mr Wil...| null|      99.0|\n",
      "+--------------------+-----+----------+\n",
      "only showing top 20 rows\n",
      "\n"
     ]
    }
   ],
   "source": [
    "# create index for boat\n",
    "boat_indexer = StringIndexer(inputCol='boat', outputCol='boat_index', handleInvalid=\"keep\")\n",
    "df = boat_indexer.fit(df).transform(df)\n",
    "df.select('name','boat','boat_index').orderBy('name').show()"
   ]
  },
  {
   "cell_type": "code",
   "execution_count": 26,
   "metadata": {},
   "outputs": [
    {
     "name": "stdout",
     "output_type": "stream",
     "text": [
      "+------+-----+\n",
      "|   sex|count|\n",
      "+------+-----+\n",
      "|  male|  848|\n",
      "|female|  462|\n",
      "+------+-----+\n",
      "\n"
     ]
    }
   ],
   "source": [
    "# final column to transform: 'sex'\n",
    "df.groupBy('sex').count().orderBy('count', ascending=False).show()"
   ]
  },
  {
   "cell_type": "code",
   "execution_count": 27,
   "metadata": {},
   "outputs": [
    {
     "name": "stdout",
     "output_type": "stream",
     "text": [
      "+--------------------+------+---------+\n",
      "|                name|   sex|sex_index|\n",
      "+--------------------+------+---------+\n",
      "|Harbeck, Mr Willi...|  male|      0.0|\n",
      "|       Lang, Mr Fang|  male|      0.0|\n",
      "|Levy, Mr Rene Jac...|  male|      0.0|\n",
      "|Padro y Manent, M...|  male|      0.0|\n",
      "|Salkjelsvik, Miss...|female|      1.0|\n",
      "|Allison, Miss Hel...|female|      1.0|\n",
      "|Candee, Mrs Edwar...|female|      1.0|\n",
      "|Carter, Mrs Willi...|female|      1.0|\n",
      "|Hakkarainen, Mr P...|  male|      0.0|\n",
      "|Landegren, Miss A...|female|      1.0|\n",
      "|  Thomas, Mr Charles|  male|      0.0|\n",
      "|Colley, Mr Edward...|  male|      0.0|\n",
      "|Harknett, Miss Alice|female|      1.0|\n",
      "|Rosblom, Miss Sal...|female|      1.0|\n",
      "|Brocklebank, Mr W...|  male|      0.0|\n",
      "|    Coxon, Mr Daniel|  male|      0.0|\n",
      "|   Hart, Mr Benjamin|  male|      0.0|\n",
      "|Widener, Mr Georg...|  male|      0.0|\n",
      "|Doyle, Miss Eliza...|female|      1.0|\n",
      "|Futrelle, Mr Jacques|  male|      0.0|\n",
      "+--------------------+------+---------+\n",
      "only showing top 20 rows\n",
      "\n"
     ]
    }
   ],
   "source": [
    "# create index for sex\n",
    "sex_indexer = StringIndexer(inputCol='sex', outputCol='sex_index')\n",
    "df = sex_indexer.fit(df).transform(df)\n",
    "df.select('name','sex','sex_index').show()"
   ]
  },
  {
   "cell_type": "markdown",
   "metadata": {},
   "source": [
    "## IMPORTANT!   \n",
    "### For all index columns created, now transform them to vectors"
   ]
  },
  {
   "cell_type": "code",
   "execution_count": 28,
   "metadata": {},
   "outputs": [
    {
     "data": {
      "text/plain": [
       "['row_names',\n",
       " 'pclass',\n",
       " 'survived',\n",
       " 'name',\n",
       " 'age',\n",
       " 'embarked',\n",
       " 'home_dest',\n",
       " 'room',\n",
       " 'ticket',\n",
       " 'boat',\n",
       " 'sex',\n",
       " 'class_index',\n",
       " 'age_imputed',\n",
       " 'new_age',\n",
       " 'embarked_index',\n",
       " 'room_imputed',\n",
       " 'room_categ',\n",
       " 'room_index',\n",
       " 'boat_index',\n",
       " 'sex_index']"
      ]
     },
     "execution_count": 28,
     "metadata": {},
     "output_type": "execute_result"
    }
   ],
   "source": [
    "# recall all the columns on the dataframe\n",
    "df.columns"
   ]
  },
  {
   "cell_type": "code",
   "execution_count": 29,
   "metadata": {},
   "outputs": [],
   "source": [
    "# transform all indexes to one_hot_encode vectors\n",
    "from pyspark.ml.feature import OneHotEncoderEstimator\n",
    "\n",
    "class_encoder = OneHotEncoderEstimator(inputCols=['class_index'], outputCols=['class_vect'])\n",
    "df = class_encoder.fit(df).transform(df)"
   ]
  },
  {
   "cell_type": "code",
   "execution_count": 30,
   "metadata": {},
   "outputs": [],
   "source": [
    "emb_encoder = OneHotEncoderEstimator(inputCols=['embarked_index'], outputCols=['embarked_vect'])\n",
    "df = emb_encoder.fit(df).transform(df)"
   ]
  },
  {
   "cell_type": "code",
   "execution_count": 31,
   "metadata": {},
   "outputs": [],
   "source": [
    "room_encoder = OneHotEncoderEstimator(inputCols=['room_index'], outputCols=['room_vect'])\n",
    "df = room_encoder.fit(df).transform(df)"
   ]
  },
  {
   "cell_type": "code",
   "execution_count": 32,
   "metadata": {},
   "outputs": [],
   "source": [
    "boat_encoder = OneHotEncoderEstimator(inputCols=['boat_index'], outputCols=['boat_vect'])\n",
    "df = boat_encoder.fit(df).transform(df)"
   ]
  },
  {
   "cell_type": "code",
   "execution_count": 33,
   "metadata": {},
   "outputs": [],
   "source": [
    "sex_encoder = OneHotEncoderEstimator(inputCols=['sex_index'], outputCols=['sex_vect'])\n",
    "df = sex_encoder.fit(df).transform(df)"
   ]
  },
  {
   "cell_type": "code",
   "execution_count": 34,
   "metadata": {},
   "outputs": [
    {
     "data": {
      "text/plain": [
       "['row_names',\n",
       " 'pclass',\n",
       " 'survived',\n",
       " 'name',\n",
       " 'age',\n",
       " 'embarked',\n",
       " 'home_dest',\n",
       " 'room',\n",
       " 'ticket',\n",
       " 'boat',\n",
       " 'sex',\n",
       " 'class_index',\n",
       " 'age_imputed',\n",
       " 'new_age',\n",
       " 'embarked_index',\n",
       " 'room_imputed',\n",
       " 'room_categ',\n",
       " 'room_index',\n",
       " 'boat_index',\n",
       " 'sex_index',\n",
       " 'class_vect',\n",
       " 'embarked_vect',\n",
       " 'room_vect',\n",
       " 'boat_vect',\n",
       " 'sex_vect']"
      ]
     },
     "execution_count": 34,
     "metadata": {},
     "output_type": "execute_result"
    }
   ],
   "source": [
    "# final step before creating any ML model: Single vector with all transformed columns and columns created when imputing values\n",
    "df.columns"
   ]
  },
  {
   "cell_type": "code",
   "execution_count": 35,
   "metadata": {},
   "outputs": [
    {
     "name": "stdout",
     "output_type": "stream",
     "text": [
      "Assembled features:\n",
      "['class_vect', 'age_imputed', 'new_age', 'embarked_vect', 'room_imputed', 'room_vect', 'boat_vect', 'sex_vect']\n",
      "+--------------------+--------+\n",
      "|            features|survived|\n",
      "+--------------------+--------+\n",
      "|(116,[2,4,5,8,66,...|       0|\n",
      "|(116,[3,4,8,115],...|       1|\n",
      "|(116,[2,3,4,6,8,1...|       0|\n",
      "|(116,[2,3,4,6,8,1...|       1|\n",
      "|(116,[3,4,8],[1.0...|       1|\n",
      "|(116,[1,4,5,9],[1...|       0|\n",
      "|(116,[1,4,6,8,22]...|       1|\n",
      "|(116,[1,4,5,8,16]...|       1|\n",
      "|(116,[3,4,8,115],...|       0|\n",
      "|(116,[3,4,8],[1.0...|       1|\n",
      "|(116,[3,4,8,115],...|       0|\n",
      "|(116,[1,3,4,5,8,1...|       0|\n",
      "|(116,[3,4,8],[1.0...|       0|\n",
      "|(116,[3,4,8],[1.0...|       0|\n",
      "|(116,[4,5,8,115],...|       0|\n",
      "|(116,[4,5,8,115],...|       0|\n",
      "|(116,[2,4,5,8,115...|       0|\n",
      "|(116,[1,4,6,8,115...|       0|\n",
      "|(116,[4,7,8],[24....|       0|\n",
      "|(116,[1,4,5,8,115...|       0|\n",
      "+--------------------+--------+\n",
      "only showing top 20 rows\n",
      "\n"
     ]
    }
   ],
   "source": [
    "# first select only the labels and features we have created to this point\n",
    "df = df.select(['survived', 'class_index', 'age_imputed', 'new_age', 'embarked_index'\n",
    "               ,'room_imputed', 'room_categ', 'room_index', 'boat_index', 'sex_index'\n",
    "               ,'class_vect', 'embarked_vect', 'room_vect', 'boat_vect', 'sex_vect'])\n",
    "\n",
    "# create a single vector only with valid features (no indexes or labels)\n",
    "from pyspark.ml.feature import VectorAssembler\n",
    "\n",
    "assembler = VectorAssembler(\n",
    "    inputCols=['class_vect', 'age_imputed', 'new_age', 'embarked_vect', 'room_imputed', 'room_vect', 'boat_vect', 'sex_vect'],\n",
    "    outputCol='features')\n",
    "\n",
    "final_df = assembler.transform(df)\n",
    "final_df = final_df.select('features', 'survived')\n",
    "\n",
    "print(\"Assembled features:\") \n",
    "print(\"['class_vect', 'age_imputed', 'new_age', 'embarked_vect', 'room_imputed', 'room_vect', 'boat_vect', 'sex_vect']\")\n",
    "final_df.show()"
   ]
  },
  {
   "cell_type": "markdown",
   "metadata": {},
   "source": [
    "## Finally!!!\n",
    "Now we can create our regression model"
   ]
  },
  {
   "cell_type": "code",
   "execution_count": 36,
   "metadata": {},
   "outputs": [],
   "source": [
    "# split the data with an 70/30 ratio\n",
    "from pyspark.ml.classification import LogisticRegression\n",
    "train_data, test_data = final_df.randomSplit([0.7, 0.3], seed=7)"
   ]
  },
  {
   "cell_type": "code",
   "execution_count": 37,
   "metadata": {},
   "outputs": [],
   "source": [
    "# create model\n",
    "lr_titanic = LogisticRegression(featuresCol='features', labelCol='survived')"
   ]
  },
  {
   "cell_type": "code",
   "execution_count": 38,
   "metadata": {},
   "outputs": [],
   "source": [
    "# train the model\n",
    "lr_model = lr_titanic.fit(train_data)"
   ]
  },
  {
   "cell_type": "code",
   "execution_count": 39,
   "metadata": {},
   "outputs": [
    {
     "data": {
      "image/png": "[encoded data removed]",
      "text/plain": [
       "<Figure size 432x288 with 1 Axes>"
      ]
     },
     "metadata": {
      "needs_background": "light"
     },
     "output_type": "display_data"
    }
   ],
   "source": [
    "# we can evaluate the performance of our model with a roc curve\n",
    "%matplotlib inline\n",
    "import matplotlib.pyplot as plt\n",
    "\n",
    "lr_summary = lr_model.summary\n",
    "roc = lr_summary.roc.toPandas()\n",
    "plt.plot(roc['FPR'], roc['TPR'])\n",
    "plt.ylabel('False Positive Rate')\n",
    "plt.xlabel('True Positive Rate')\n",
    "plt.title('ROC Curve [training] ' + str(lr_summary.areaUnderROC));"
   ]
  },
  {
   "cell_type": "code",
   "execution_count": 40,
   "metadata": {},
   "outputs": [
    {
     "name": "stdout",
     "output_type": "stream",
     "text": [
      "root\n",
      " |-- features: vector (nullable = true)\n",
      " |-- survived: integer (nullable = true)\n",
      " |-- rawPrediction: vector (nullable = true)\n",
      " |-- probability: vector (nullable = true)\n",
      " |-- prediction: double (nullable = false)\n",
      "\n"
     ]
    }
   ],
   "source": [
    "# get predictions with test_data\n",
    "lr_results = lr_model.transform(test_data)\n",
    "\n",
    "# the schema of results will give us the resulting vectors available for evaluation\n",
    "lr_results.printSchema()"
   ]
  },
  {
   "cell_type": "code",
   "execution_count": 41,
   "metadata": {},
   "outputs": [
    {
     "name": "stdout",
     "output_type": "stream",
     "text": [
      "+--------+----------+\n",
      "|survived|prediction|\n",
      "+--------+----------+\n",
      "|       0|       0.0|\n",
      "|       1|       1.0|\n",
      "|       0|       0.0|\n",
      "|       0|       0.0|\n",
      "|       0|       0.0|\n",
      "|       0|       0.0|\n",
      "|       0|       0.0|\n",
      "|       0|       0.0|\n",
      "|       0|       0.0|\n",
      "|       1|       0.0|\n",
      "|       0|       0.0|\n",
      "|       1|       0.0|\n",
      "|       0|       0.0|\n",
      "|       0|       0.0|\n",
      "|       0|       0.0|\n",
      "|       1|       1.0|\n",
      "|       0|       0.0|\n",
      "|       1|       1.0|\n",
      "|       0|       0.0|\n",
      "|       1|       1.0|\n",
      "+--------+----------+\n",
      "only showing top 20 rows\n",
      "\n"
     ]
    }
   ],
   "source": [
    "# take a look a the actual predictions\n",
    "lr_results.select('survived', 'prediction').show()"
   ]
  },
  {
   "cell_type": "code",
   "execution_count": 42,
   "metadata": {},
   "outputs": [
    {
     "name": "stdout",
     "output_type": "stream",
     "text": [
      "Area under the curve [testing]: 0.8635787533125936\n"
     ]
    }
   ],
   "source": [
    "# last, we can evaluate our model with test_data\n",
    "from pyspark.ml.evaluation import BinaryClassificationEvaluator\n",
    "\n",
    "lr_eval = BinaryClassificationEvaluator(rawPredictionCol='prediction', labelCol='survived')\n",
    "\n",
    "lr_score = lr_eval.evaluate(lr_results)\n",
    "print('Area under the curve [testing]:', lr_score)"
   ]
  },
  {
   "cell_type": "markdown",
   "metadata": {},
   "source": [
    "### That's a pretty good model.\n",
    "\n",
    "Now, let's create other different models and compare performance"
   ]
  },
  {
   "cell_type": "code",
   "execution_count": 43,
   "metadata": {},
   "outputs": [],
   "source": [
    "# we want to evaluate performance of Decision Trees, Random Forest and Gradient Boosting\n",
    "from pyspark.ml.classification import DecisionTreeClassifier, RandomForestClassifier, GBTClassifier"
   ]
  },
  {
   "cell_type": "code",
   "execution_count": 44,
   "metadata": {},
   "outputs": [],
   "source": [
    "# create the 3 different models\n",
    "dtc = DecisionTreeClassifier(labelCol='survived', featuresCol='features')\n",
    "rfc = RandomForestClassifier(labelCol='survived', featuresCol='features')\n",
    "gbc = GBTClassifier(labelCol='survived', featuresCol='features')"
   ]
  },
  {
   "cell_type": "code",
   "execution_count": 45,
   "metadata": {},
   "outputs": [],
   "source": [
    "# train the models\n",
    "dtc_model = dtc.fit(train_data)\n",
    "rfc_model = rfc.fit(train_data)\n",
    "gbc_model = gbc.fit(train_data)"
   ]
  },
  {
   "cell_type": "code",
   "execution_count": 46,
   "metadata": {},
   "outputs": [],
   "source": [
    "# get the predictions with test_data\n",
    "dtc_preds = dtc_model.transform(test_data)\n",
    "rfc_preds = rfc_model.transform(test_data)\n",
    "gbc_preds = gbc_model.transform(test_data)"
   ]
  },
  {
   "cell_type": "code",
   "execution_count": 47,
   "metadata": {},
   "outputs": [
    {
     "name": "stdout",
     "output_type": "stream",
     "text": [
      "root\n",
      " |-- features: vector (nullable = true)\n",
      " |-- survived: integer (nullable = true)\n",
      " |-- rawPrediction: vector (nullable = true)\n",
      " |-- probability: vector (nullable = true)\n",
      " |-- prediction: double (nullable = false)\n",
      "\n"
     ]
    }
   ],
   "source": [
    "# we can see the resulting vectors available for evaluation (actually those are same from linear_regression)\n",
    "dtc_preds.printSchema()"
   ]
  },
  {
   "cell_type": "code",
   "execution_count": 48,
   "metadata": {},
   "outputs": [
    {
     "name": "stdout",
     "output_type": "stream",
     "text": [
      "Logistic regression: 0.8635787533125936\n",
      "Decision Tree Classifier: 0.44316741560087564\n",
      "Random Forest Classifier: 0.9011262818297039\n",
      "Gradient Boosting Classifier: 0.9347707109113953\n"
     ]
    }
   ],
   "source": [
    "# to evaluate our model we use again BinaryClassificationEvaluator\n",
    "binary_eval = BinaryClassificationEvaluator(labelCol='survived')\n",
    "\n",
    "print('Logistic regression:', lr_score)\n",
    "print('Decision Tree Classifier:', binary_eval.evaluate(dtc_preds))\n",
    "print('Random Forest Classifier:', binary_eval.evaluate(rfc_preds))\n",
    "print('Gradient Boosting Classifier:', binary_eval.evaluate(gbc_preds))"
   ]
  },
  {
   "cell_type": "markdown",
   "metadata": {},
   "source": [
    "#### surprisingly, random forest performs just above than our logistic regression model\n",
    "\n",
    "### Gradient Boosting Classifier turns out to be the best one among the 4 chosen models\n",
    "\n",
    "### (Logistic Regression, Decision Trees, Random Forest, Gradient Boosting)\n",
    "\n",
    "As a final note, we should remember that we used the default parameters when creating the classification models.\n",
    "There are dozens of parameters we can start tuning in order to get a better score on each one of the models created"
   ]
  }
 ],
 "metadata": {
  "kernelspec": {
   "display_name": "Python 3",
   "language": "python",
   "name": "python3"
  },
  "language_info": {
   "codemirror_mode": {
    "name": "ipython",
    "version": 3
   },
   "file_extension": ".py",
   "mimetype": "text/x-python",
   "name": "python",
   "nbconvert_exporter": "python",
   "pygments_lexer": "ipython3",
   "version": "3.6.7"
  }
 },
 "nbformat": 4,
 "nbformat_minor": 2
}
